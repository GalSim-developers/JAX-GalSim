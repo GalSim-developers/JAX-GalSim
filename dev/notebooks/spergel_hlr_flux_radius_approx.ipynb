{
 "cells": [
  {
   "cell_type": "code",
   "execution_count": 1,
   "id": "d7b8bc37-8799-433c-9399-de95a21a1727",
   "metadata": {},
   "outputs": [],
   "source": [
    "import galsim\n",
    "import numpy as np\n",
    "\n",
    "import ultraplot as uplot"
   ]
  },
  {
   "cell_type": "markdown",
   "id": "1cc6d839-6f5d-48aa-ba7a-dfd1a3371d33",
   "metadata": {},
   "source": [
    "## Spergel HLR"
   ]
  },
  {
   "cell_type": "code",
   "execution_count": 2,
   "id": "850a3ad0-74c4-417b-b79d-2c5590f70027",
   "metadata": {},
   "outputs": [],
   "source": [
    "nu_vals = np.linspace(-0.85, 4.0, 500)\n",
    "NU_FRAC = 0.5\n",
    "\n",
    "frac_vals = []\n",
    "for nu in nu_vals:\n",
    "    prof = galsim.Spergel(nu, scale_radius=1)\n",
    "    frac_vals.append(prof.calculateFluxRadius(NU_FRAC))\n",
    "    \n",
    "frac_vals = np.array(frac_vals)"
   ]
  },
  {
   "cell_type": "code",
   "execution_count": 3,
   "id": "c781af78-6de8-474b-ab56-551455d981b4",
   "metadata": {},
   "outputs": [
    {
     "data": {
      "text/plain": [
       "<a list of 1 Line2D objects>"
      ]
     },
     "execution_count": 3,
     "metadata": {},
     "output_type": "execute_result"
    },
    {
     "data": {
      "image/png": "[encoded data removed]",
      "text/plain": [
       "Figure(nrows=1, ncols=1, refwidth=2.5)"
      ]
     },
     "metadata": {
      "image/png": {
       "height": 282,
       "width": 291
      }
     },
     "output_type": "display_data"
    }
   ],
   "source": [
    "fig, axs = uplot.subplots()\n",
    "\n",
    "axs.plot(nu_vals, frac_vals)"
   ]
  },
  {
   "cell_type": "code",
   "execution_count": 4,
   "id": "e786f3d4-557a-4f76-8836-fc8c61763b7c",
   "metadata": {},
   "outputs": [],
   "source": [
    "import scipy.optimize\n",
    "import numpy.polynomial\n",
    "from numpy.polynomial import Polynomial\n",
    "\n",
    "numpy.polynomial.set_default_printstyle(\"ascii\")"
   ]
  },
  {
   "cell_type": "code",
   "execution_count": 5,
   "id": "00c73375-0648-46e5-bae6-4048a0a867fd",
   "metadata": {},
   "outputs": [],
   "source": [
    "RATNL_ORDER = 9\n",
    "\n",
    "def get_ratnl_func_polys(coeff):\n",
    "    p_coeff = coeff[0:RATNL_ORDER+1]\n",
    "    q_coeff = np.concatenate([[1], coeff[RATNL_ORDER+1:]])\n",
    "    pm = Polynomial(p_coeff)\n",
    "    qm = Polynomial(q_coeff)\n",
    "    return pm, qm\n",
    "    \n",
    "\n",
    "def ratnl_func(x, *coeff):\n",
    "    pm, qm = get_ratnl_func_polys(coeff)\n",
    "    return pm(x) / qm(x)\n",
    "\n",
    "\n",
    "res = scipy.optimize.curve_fit(ratnl_func, nu_vals, frac_vals, p0=np.ones(2*RATNL_ORDER + 1), full_output=True)"
   ]
  },
  {
   "cell_type": "code",
   "execution_count": 6,
   "id": "b2d7adf1-ba49-4ac3-9924-39a7938e0b71",
   "metadata": {},
   "outputs": [],
   "source": [
    "coeff = res[0]\n",
    "\n",
    "pm, qm =  get_ratnl_func_polys(coeff)"
   ]
  },
  {
   "cell_type": "code",
   "execution_count": 7,
   "id": "0d14d88c-cb83-4c21-a11b-0021614c0a1f",
   "metadata": {},
   "outputs": [
    {
     "name": "stdout",
     "output_type": "stream",
     "text": [
      "def _spergel_hlr(x):\n",
      "    pm = 1.2571513771129166 + x * (\n",
      "        3.7059053890269102 + x * (\n",
      "            2.8577090425861944 + x * (\n",
      "                -0.30570486567039273 + x * (\n",
      "                    0.6589831675940833 + x * (\n",
      "                        3.375577680133867 + x * (\n",
      "                            2.8143565844741403 + x * (\n",
      "                                0.9292378858457211 + x * (\n",
      "                                    0.12096941981286179 + x * (\n",
      "                                        0.004206502758293099\n",
      "                                    )\n",
      "                                )\n",
      "                            )\n",
      "                        )\n",
      "                    )\n",
      "                )\n",
      "            )\n",
      "        )\n",
      "    )\n",
      "    qm = 1.0 + x * (\n",
      "        2.1939178810491837 + x * (\n",
      "            0.8281034080784796 + x * (\n",
      "                -0.5163329765186994 + x * (\n",
      "                    0.9164871490929886 + x * (\n",
      "                        1.8988551389326231 + x * (\n",
      "                            1.042688817291684 + x * (\n",
      "                                0.22580140592548198 + x * (\n",
      "                                    0.01681923980317362 + x * (\n",
      "                                        0.00018168506955933716\n",
      "                                    )\n",
      "                                )\n",
      "                            )\n",
      "                        )\n",
      "                    )\n",
      "                )\n",
      "            )\n",
      "        )\n",
      "    )\n",
      "    return pm / qm\n"
     ]
    }
   ],
   "source": [
    "def make_poly_code(pm, head=\"\", base_indent=0):\n",
    "    res = \"\"\n",
    "    indent = base_indent\n",
    "    for c in pm.coef:\n",
    "        if c == pm.coef[-1]:\n",
    "            end = \"\"\n",
    "        else:\n",
    "            end = \" + x * (\"\n",
    "\n",
    "        if c == pm.coef[0]:\n",
    "            _hd = head\n",
    "        else:\n",
    "            _hd = \"\"\n",
    "        res += \" \" * 4*indent + f\"{_hd}{c}{end}\\n\"\n",
    "        if c != pm.coef[-1]:\n",
    "            indent += 1\n",
    "\n",
    "    for _ in pm.coef[:-1]:\n",
    "        indent -= 1\n",
    "        res += \" \" * 4*indent + \")\\n\"\n",
    "\n",
    "    return res\n",
    "\n",
    "\n",
    "code = \"def _spergel_hlr(x):\\n\"\n",
    "code += make_poly_code(pm, head=\"pm = \", base_indent=1)\n",
    "code += make_poly_code(qm, head=\"qm = \", base_indent=1)\n",
    "code += \"    return pm / qm\"\n",
    "\n",
    "print(code)"
   ]
  },
  {
   "cell_type": "code",
   "execution_count": 8,
   "id": "8d5d7152-ea9e-4569-b5b7-9a10037ecdfa",
   "metadata": {},
   "outputs": [
    {
     "name": "stdout",
     "output_type": "stream",
     "text": [
      "9.072944411797624e-09 6.270160715637907e-08\n",
      "9.072944411797624e-09 6.270160715637907e-08\n"
     ]
    },
    {
     "data": {
      "text/plain": [
       "<a list of 1 Line2D objects>"
      ]
     },
     "execution_count": 8,
     "metadata": {},
     "output_type": "execute_result"
    },
    {
     "data": {
      "image/png": "[encoded data removed]",
      "text/plain": [
       "Figure(nrows=1, ncols=1, refwidth=2.5)"
      ]
     },
     "metadata": {
      "image/png": {
       "height": 282,
       "width": 291
      }
     },
     "output_type": "display_data"
    }
   ],
   "source": [
    "exec(code)\n",
    "\n",
    "preds = _spergel_hlr(nu_vals)\n",
    "diff = np.abs(frac_vals - preds)\n",
    "print(np.mean(diff), np.max(diff))\n",
    "\n",
    "preds = ratnl_func(nu_vals, *coeff)\n",
    "diff = np.abs(frac_vals - preds)\n",
    "print(np.mean(diff), np.max(diff))\n",
    "\n",
    "\n",
    "fig, axs = uplot.subplots()\n",
    "\n",
    "# axs.plot(nu_vals, hlr_vals)\n",
    "axs.plot(nu_vals, frac_vals)\n",
    "axs.plot(nu_vals, preds)"
   ]
  },
  {
   "cell_type": "code",
   "execution_count": 9,
   "id": "a929b493-9997-4c04-b663-edbe2483e187",
   "metadata": {},
   "outputs": [
    {
     "name": "stdout",
     "output_type": "stream",
     "text": [
      "9.079122786914695e-09 6.302919142164853e-08 -0.8412399010431769\n"
     ]
    }
   ],
   "source": [
    "rng = np.random.RandomState()\n",
    "\n",
    "diffs = []\n",
    "nus = []\n",
    "for _ in range(10000):\n",
    "    nu = rng.uniform(low=-0.85, high=4.0)\n",
    "    re = 1.0\n",
    "\n",
    "    try:\n",
    "        ival = _spergel_hlr(nu)\n",
    "        tval = galsim.Spergel(nu, scale_radius=re).calculateFluxRadius(NU_FRAC)\n",
    "    except Exception:\n",
    "        pass\n",
    "    else:\n",
    "        diffs.append(ival - tval)\n",
    "        nus.append(nu)\n",
    "\n",
    "print(np.median(np.abs(diffs)), np.max(np.abs(diffs)), nus[np.argmax(np.abs(diffs))])"
   ]
  },
  {
   "cell_type": "markdown",
   "id": "7bbac0ff-e7bd-4a99-bcf6-2478a69434da",
   "metadata": {},
   "source": [
    "# CODE NOT USED BELOW HERE"
   ]
  },
  {
   "cell_type": "markdown",
   "id": "9f5a7d62-b320-469f-a875-2c8a796b94c3",
   "metadata": {},
   "source": [
    "## Try rad at fixed nu"
   ]
  },
  {
   "cell_type": "code",
   "execution_count": null,
   "id": "51614604-c11d-4cbb-bb28-c10a5fe3c37d",
   "metadata": {},
   "outputs": [],
   "source": [
    "NU = 0.5\n",
    "\n",
    "n_pts = 500\n",
    "n_log = 200\n",
    "n_mid = n_pts - 2 * n_log\n",
    "frac_cut = 0.4\n",
    "frac_min = 1e-8\n",
    "eps = 1e-12\n",
    "logfracs = np.logspace(np.log10(frac_min), np.log10(frac_cut), n_log)\n",
    "frac_vals = np.concatenate([\n",
    "    logfracs, \n",
    "    np.linspace(frac_cut + eps, 0.5 + np.abs(0.5 - frac_cut) - 2 * eps, n_mid), \n",
    "    1.0 - logfracs[::-1] - eps,\n",
    "])\n",
    "\n",
    "prof = galsim.Spergel(NU, scale_radius=1)\n",
    "rad_vals = []\n",
    "for frac in frac_vals:\n",
    "    rad_vals.append(prof.calculateFluxRadius(frac))\n",
    "    \n",
    "rad_vals = np.array(rad_vals)"
   ]
  },
  {
   "cell_type": "code",
   "execution_count": null,
   "id": "db923966-1218-4978-9472-b662a05d52b7",
   "metadata": {},
   "outputs": [],
   "source": [
    "fig, axs = uplot.subplots()\n",
    "\n",
    "axs.plot(np.log(frac_vals), np.log(rad_vals))"
   ]
  },
  {
   "cell_type": "code",
   "execution_count": null,
   "id": "0022f769-4787-4f86-ad6e-e701a836e29d",
   "metadata": {},
   "outputs": [],
   "source": [
    "import scipy.optimize\n",
    "import numpy.polynomial\n",
    "from numpy.polynomial import Polynomial\n",
    "\n",
    "numpy.polynomial.set_default_printstyle(\"ascii\")"
   ]
  },
  {
   "cell_type": "code",
   "execution_count": null,
   "id": "2eb066bf-ffdd-45a6-a17f-541ff744d71f",
   "metadata": {},
   "outputs": [],
   "source": [
    "RATNL_ORDER = 7\n",
    "\n",
    "def get_ratnl_func_polys(coeff):\n",
    "    p_coeff = coeff[0:RATNL_ORDER+1]\n",
    "    q_coeff = np.concatenate([[1], coeff[RATNL_ORDER+1:]])\n",
    "    pm = Polynomial(p_coeff)\n",
    "    qm = Polynomial(q_coeff)\n",
    "    return pm, qm\n",
    "    \n",
    "\n",
    "def ratnl_func(x, *coeff):\n",
    "    pm, qm = get_ratnl_func_polys(coeff)\n",
    "    return pm(x) / qm(x)\n",
    "\n",
    "\n",
    "res = scipy.optimize.curve_fit(\n",
    "    ratnl_func, \n",
    "    np.log(frac_vals), \n",
    "    np.log(rad_vals), \n",
    "    p0=np.ones(2*RATNL_ORDER + 1), \n",
    "    full_output=True,\n",
    "    maxfev=100000,\n",
    ")\n",
    "print(res[-2])"
   ]
  },
  {
   "cell_type": "code",
   "execution_count": null,
   "id": "99e31d6c-4c99-41da-9d84-068a946c471b",
   "metadata": {},
   "outputs": [],
   "source": [
    "coeff = res[0]\n",
    "\n",
    "pm, qm =  get_ratnl_func_polys(coeff)"
   ]
  },
  {
   "cell_type": "code",
   "execution_count": null,
   "id": "d49e0d06-58d9-49fe-9667-030aeb588b19",
   "metadata": {},
   "outputs": [],
   "source": [
    "rng = np.random.RandomState()\n",
    "\n",
    "diffs = []\n",
    "fracs = []\n",
    "for _ in range(10000):\n",
    "    frac = rng.uniform(low=frac_min, high=1.0 - frac_min - eps)\n",
    "    re = 1.0\n",
    "\n",
    "    try:\n",
    "        ival = ratnl_func(np.log(frac), *coeff)\n",
    "        tval = np.log(galsim.Spergel(NU, scale_radius=re).calculateFluxRadius(frac))\n",
    "    except Exception:\n",
    "        pass\n",
    "    else:\n",
    "        diffs.append(ival - tval)\n",
    "        fracs.append(frac)\n",
    "\n",
    "print(np.median(np.abs(diffs)), np.max(np.abs(diffs)), (fracs[np.argmax(np.abs(diffs))]))"
   ]
  },
  {
   "cell_type": "code",
   "execution_count": null,
   "id": "de92808e-05ba-4bc1-b736-b3437956e4d7",
   "metadata": {},
   "outputs": [],
   "source": [
    "\n",
    "fig, axs = uplot.subplots()\n",
    "\n",
    "axs.plot(np.log(frac_vals), ratnl_func(np.log(frac_vals), *coeff) - np.log(rad_vals))\n",
    "# axs.plot(np.log(frac_vals), )"
   ]
  },
  {
   "cell_type": "markdown",
   "id": "71967d9d-4e2c-4edf-9a9f-07e8a61bd3a1",
   "metadata": {},
   "source": [
    "## Try Full Flux Radius Computation w/ Polynomial Product"
   ]
  },
  {
   "cell_type": "code",
   "execution_count": null,
   "id": "4baaabaf-ddcf-459d-8d3b-5c9f397ff476",
   "metadata": {},
   "outputs": [],
   "source": [
    "RATNL_ORDER = 5\n",
    "n_params = 2 * (RATNL_ORDER + 1) + 2 * RATNL_ORDER\n",
    "\n",
    "\n",
    "def get_ratnl_func_polys(coeff):\n",
    "    n_p = RATNL_ORDER+1\n",
    "    n_q = RATNL_ORDER\n",
    "    p_coeff = coeff[0:n_p]\n",
    "    q_coeff = np.concatenate([[1], coeff[n_p:n_p+n_q]])\n",
    "    pm = Polynomial(p_coeff)\n",
    "    qm = Polynomial(q_coeff)\n",
    "\n",
    "    n_p = RATNL_ORDER+1\n",
    "    n_q = RATNL_ORDER\n",
    "    p_coeff = coeff[n_p + n_q:n_p + n_q + n_p]\n",
    "    q_coeff = np.concatenate([[1], coeff[n_p + n_q + n_p:]])\n",
    "    pm2 = Polynomial(p_coeff)\n",
    "    qm2 = Polynomial(q_coeff)    \n",
    "    \n",
    "    return pm, qm, pm2, qm2\n",
    "    \n",
    "\n",
    "def ratnl_func(x, *coeff):\n",
    "    pm, qm, pm2, qm2 = get_ratnl_func_polys(coeff)\n",
    "    return pm(x[0, :]) / qm(x[0, :]) * pm2(x[1, :]) / qm2(x[1, :])\n",
    "\n",
    "\n",
    "n_pts = 500\n",
    "n_log = 200\n",
    "n_mid = n_pts - 2 * n_log\n",
    "frac_cut = 0.4\n",
    "frac_min = 1e-8\n",
    "eps = 1e-12\n",
    "logfracs = np.logspace(np.log10(frac_min), np.log10(frac_cut), n_log)\n",
    "fracs = np.concatenate([\n",
    "    logfracs, \n",
    "    np.linspace(frac_cut + eps, 0.5 + np.abs(0.5 - frac_cut) - 2 * eps, n_mid), \n",
    "    1.0 - logfracs[::-1] - eps,\n",
    "])\n",
    "nu_vals = np.linspace(-0.0, 0.01, n_pts)\n",
    "\n",
    "rad_vals = []\n",
    "x_vals = []\n",
    "for nu in nu_vals:\n",
    "    for frac in fracs:\n",
    "        try:\n",
    "            rad_vals.append(galsim.Spergel(nu, scale_radius=1).calculateFluxRadius(frac))\n",
    "        except Exception:\n",
    "            rad_vals.append(np.nan)\n",
    "        x_vals.append([nu, np.log(frac)])\n",
    "rad_vals = np.array(rad_vals)\n",
    "x_vals = np.array(x_vals).T\n",
    "\n",
    "msk = np.isfinite(rad_vals)\n",
    "rad_vals = np.log(rad_vals[msk])\n",
    "x_vals = x_vals[:, msk]\n",
    "\n",
    "print(x_vals.shape, x_vals[0, 0:10], x_vals[1, 0:10])"
   ]
  },
  {
   "cell_type": "code",
   "execution_count": null,
   "id": "7fb46e58-d6ff-4fc3-9eed-5d40b51ade7a",
   "metadata": {},
   "outputs": [],
   "source": [
    "eps = 1e-6\n",
    "res = scipy.optimize.curve_fit(\n",
    "    ratnl_func, x_vals, rad_vals, p0=np.ones(n_params), full_output=True,\n",
    "    maxfev=1000000,\n",
    "    ftol=eps,\n",
    "    xtol=eps,\n",
    ")"
   ]
  },
  {
   "cell_type": "code",
   "execution_count": null,
   "id": "cf64003d-3928-4cb9-b712-fbd009cbaa20",
   "metadata": {},
   "outputs": [],
   "source": [
    "coeff = res[0]\n",
    "\n",
    "pred = ratnl_func(x_vals, *coeff)\n",
    "diff = np.abs(rad_vals - pred)\n",
    "\n",
    "print(np.median(diff), np.max(diff))"
   ]
  },
  {
   "cell_type": "code",
   "execution_count": null,
   "id": "249e67c8-4385-46f6-a089-bf3cb95e3ba5",
   "metadata": {},
   "outputs": [],
   "source": [
    "nu_vals = np.linspace(-0.85, 4.0, 500)\n",
    "NU_FRAC = 0.005\n",
    "\n",
    "frac_vals = []\n",
    "ifrac_vals = []\n",
    "for nu in nu_vals:\n",
    "    prof = galsim.Spergel(nu, scale_radius=1)\n",
    "    frac_vals.append(prof.calculateFluxRadius(NU_FRAC))\n",
    "    xvals = np.array([[nu, np.log(NU_FRAC)]]).T\n",
    "    ifrac_vals.append(np.exp(ratnl_func(xvals, *coeff)))\n",
    "    \n",
    "frac_vals = np.array(frac_vals)\n",
    "ifrac_vals = np.array(ifrac_vals)\n",
    "\n",
    "fig, axs = uplot.subplots()\n",
    "\n",
    "axs.plot(nu_vals, frac_vals)\n",
    "axs.plot(nu_vals, ifrac_vals)"
   ]
  },
  {
   "cell_type": "markdown",
   "id": "08d5aade-ab62-40f1-ab87-1026c7e06f6d",
   "metadata": {},
   "source": [
    "## Try full Flux Radius computation"
   ]
  },
  {
   "cell_type": "code",
   "execution_count": null,
   "id": "7987d13c-ddd2-40e2-9cc9-96bef3ecaf01",
   "metadata": {},
   "outputs": [],
   "source": [
    "from numba import njit\n",
    "\n",
    "NU_FRAC_ORDER = 3\n",
    "NU_FRAC_ORDER_PLUS_ONE = NU_FRAC_ORDER + 1\n",
    "n_params = 2 * (NU_FRAC_ORDER_PLUS_ONE * (NU_FRAC_ORDER_PLUS_ONE + 1) // 2) - 1\n",
    "\n",
    "\n",
    "@njit\n",
    "def compute_poly_matrix_from_coeff(coeff):\n",
    "    n_per = (NU_FRAC_ORDER_PLUS_ONE * (NU_FRAC_ORDER_PLUS_ONE + 1) // 2)\n",
    "    p_coeff = coeff[:n_per]\n",
    "    q_coeff = np.zeros(n_per) # p_coeff.copy()\n",
    "    q_coeff[0] = 1.0\n",
    "    q_coeff[1:] = coeff[n_per:]\n",
    "    \n",
    "    loc = 0\n",
    "    c_p = np.zeros((NU_FRAC_ORDER_PLUS_ONE, NU_FRAC_ORDER_PLUS_ONE))\n",
    "    c_q = np.zeros((NU_FRAC_ORDER_PLUS_ONE, NU_FRAC_ORDER_PLUS_ONE))\n",
    "    for i in range(NU_FRAC_ORDER_PLUS_ONE):\n",
    "        for j in range(NU_FRAC_ORDER_PLUS_ONE):\n",
    "            if i + j <= NU_FRAC_ORDER:\n",
    "                c_p[i, j] = p_coeff[loc]\n",
    "                c_q[i, j] = q_coeff[loc]\n",
    "                loc += 1\n",
    "    return c_p, c_q\n",
    "\n",
    "@njit\n",
    "def ratnl_func(nu_frac, *coeff):\n",
    "    nu, frac = nu_frac[0, :], nu_frac[1, :]\n",
    "    c_p, c_q = compute_poly_matrix_from_coeff(np.array(coeff))\n",
    "    return (\n",
    "        numpy.polynomial.polynomial.polyval2d(nu, frac, c_p) \n",
    "        / numpy.polynomial.polynomial.polyval2d(nu, frac, c_q)\n",
    "    )\n",
    "\n",
    "n_pts = 500\n",
    "n_log = 150\n",
    "n_mid = n_pts - 2 * n_log\n",
    "frac_cut = 0.4\n",
    "frac_min = 1e-8\n",
    "eps = 1e-12\n",
    "logfracs = np.logspace(np.log10(frac_min), np.log10(frac_cut), n_log)\n",
    "fracs = np.concatenate([\n",
    "    logfracs, \n",
    "    np.linspace(frac_cut + eps, 0.5 + np.abs(0.5 - frac_cut) - 2 * eps, n_mid), \n",
    "    1.0 - logfracs[::-1] - eps,\n",
    "])\n",
    "nu_vals = np.linspace(-0.85, 4.0, n_pts)\n",
    "\n",
    "rad_vals = []\n",
    "x_vals = []\n",
    "for nu in nu_vals:\n",
    "    for frac in fracs:\n",
    "        try:\n",
    "            rad_vals.append(galsim.Spergel(nu, scale_radius=1).calculateFluxRadius(frac))\n",
    "        except Exception:\n",
    "            rad_vals.append(np.nan)\n",
    "        x_vals.append([nu, np.log(frac)])\n",
    "rad_vals = np.array(rad_vals)\n",
    "x_vals = np.array(x_vals).T\n",
    "\n",
    "\n",
    "msk = np.isfinite(rad_vals)\n",
    "rad_vals = rad_vals[msk]\n",
    "x_vals = x_vals[:, msk]"
   ]
  },
  {
   "cell_type": "code",
   "execution_count": null,
   "id": "049901f2-3cda-46ab-8733-ac9faafa4cbe",
   "metadata": {},
   "outputs": [],
   "source": [
    "tol = 1e-2\n",
    "res = scipy.optimize.curve_fit(\n",
    "    ratnl_func, x_vals, np.log(rad_vals), p0=np.ones(n_params), full_output=True,\n",
    "    xtol=tol, ftol=tol, maxfev=100000\n",
    "    \n",
    ")\n",
    "res[-2]"
   ]
  },
  {
   "cell_type": "code",
   "execution_count": null,
   "id": "05c74099-8c84-43bc-8a45-3a05e11c2741",
   "metadata": {},
   "outputs": [],
   "source": [
    "coeff = res[0]\n",
    "\n",
    "pred = ratnl_func(x_vals, *coeff)\n",
    "diff = np.abs(np.log(rad_vals) - pred)\n",
    "\n",
    "print(np.median(diff), np.max(diff))"
   ]
  },
  {
   "cell_type": "code",
   "execution_count": null,
   "id": "40cc1dcc-3a46-49e5-be97-eb1056d2e489",
   "metadata": {},
   "outputs": [],
   "source": [
    "nu_vals = np.linspace(-0.85, 4.0, 500)\n",
    "NU_FRAC = 0.9\n",
    "\n",
    "frac_vals = []\n",
    "ifrac_vals = []\n",
    "for nu in nu_vals:\n",
    "    prof = galsim.Spergel(nu, scale_radius=1)\n",
    "    frac_vals.append(prof.calculateFluxRadius(NU_FRAC))\n",
    "    xvals = np.array([[nu, np.log(NU_FRAC)]]).T\n",
    "    ifrac_vals.append(np.exp(ratnl_func(xvals, *coeff)))\n",
    "    \n",
    "frac_vals = np.array(frac_vals)\n",
    "ifrac_vals = np.array(ifrac_vals)\n",
    "\n",
    "fig, axs = uplot.subplots()\n",
    "\n",
    "axs.plot(nu_vals, frac_vals)\n",
    "axs.plot(nu_vals, ifrac_vals)"
   ]
  },
  {
   "cell_type": "code",
   "execution_count": null,
   "id": "856a6679-15ba-46b7-b8fa-c4914e5fb5e0",
   "metadata": {},
   "outputs": [],
   "source": []
  },
  {
   "cell_type": "code",
   "execution_count": null,
   "id": "0c0756b9-e21c-49ba-81eb-c48fd14d0edd",
   "metadata": {},
   "outputs": [],
   "source": []
  }
 ],
 "metadata": {
  "kernelspec": {
   "display_name": "Python [conda env:jax-galsim]",
   "language": "python",
   "name": "conda-env-jax-galsim-py"
  },
  "language_info": {
   "codemirror_mode": {
    "name": "ipython",
    "version": 3
   },
   "file_extension": ".py",
   "mimetype": "text/x-python",
   "name": "python",
   "nbconvert_exporter": "python",
   "pygments_lexer": "ipython3",
   "version": "3.10.15"
  }
 },
 "nbformat": 4,
 "nbformat_minor": 5
}
