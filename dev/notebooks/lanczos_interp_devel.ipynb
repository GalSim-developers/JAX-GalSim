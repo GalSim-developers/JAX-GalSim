{
 "cells": [
  {
   "cell_type": "code",
   "execution_count": 1,
   "id": "dad774e5-17de-4dd5-9383-69cd716601e2",
   "metadata": {},
   "outputs": [],
   "source": [
    "import galsim\n",
    "import numpy as np\n",
    "import proplot as pplt"
   ]
  },
  {
   "cell_type": "code",
   "execution_count": null,
   "id": "aa6372a5-0c8b-468b-8d18-30ec2127b1a5",
   "metadata": {},
   "outputs": [],
   "source": [
    "fig, axs = pplt.subplots(figsize=(7, 7))\n",
    "\n",
    "def _s(x, c, m):\n",
    "    return 1.0 / (1.0 + np.exp(-(x-m)/c))\n",
    "\n",
    "def _approx(order, tol):\n",
    "    plaw = np.exp(4.8 + 9.2e-4 * np.log(tol/1e-8)**2 - 0.33 * np.log(tol/1e-8) - 0.66 * np.log(order))\n",
    "    sval = _s(np.log(order), np.log(15), 0.1) * (1.0 - _s(np.log(tol), np.log(1e-2), 0.1))\n",
    "    return np.maximum(sval * 1.5 + (1.0 - sval) * plaw, 0.55)\n",
    "\n",
    "m = []\n",
    "orders = np.arange(1, 31, dtype=int)\n",
    "tols = np.logspace(-8, 0, 10)\n",
    "\n",
    "vals = np.zeros((tols.shape[0], orders.shape[0]))\n",
    "for j, tol in enumerate(tols):\n",
    "    yv = []\n",
    "    for i in orders:\n",
    "        lz = galsim.interpolant.Lanczos(i, gsparams=galsim.GSParams(kvalue_accuracy=tol))\n",
    "        yv.append(lz._i.urange())\n",
    "    vals[j, :] = np.array(yv)\n",
    "    m.append(axs.loglog(orders, yv, label=\"log10(tol) = %d\" % np.log10(tol)))\n",
    "    axs.loglog(\n",
    "        orders, \n",
    "        _approx(orders, tol), \n",
    "        \":\", \n",
    "        color=\"k\",\n",
    "    )\n",
    "axs.legend(m, loc=\"ur\", ncols=4, frameon=False)\n",
    "axs.format(xlabel=\"Lanczos order\", ylabel=\"urange [$2\\pi$/pixels]\")\n",
    "        "
   ]
  },
  {
   "cell_type": "code",
   "execution_count": null,
   "id": "382e847c-1858-45b4-a169-d8f8a2ad9694",
   "metadata": {
    "scrolled": true
   },
   "outputs": [],
   "source": [
    "print(\"_posflux_conserve_dc = {\")\n",
    "for i in orders:\n",
    "    lz = galsim.interpolant.Lanczos(i, conserve_dc=True, gsparams=galsim.GSParams(kvalue_accuracy=tol))\n",
    "    print(\"    %d: %r,\" % (i, lz.positive_flux))\n",
    "print(\"}\")\n",
    "\n",
    "print(\"_posflux_no_conserve_dc = {\")\n",
    "for i in orders:\n",
    "    lz = galsim.interpolant.Lanczos(i, conserve_dc=False, gsparams=galsim.GSParams(kvalue_accuracy=tol))\n",
    "    print(\"    %d: %r,\" % (i, lz.positive_flux))\n",
    "print(\"}\")\n",
    "\n",
    "print(\"_negflux_conserve_dc = {\")\n",
    "for i in orders:\n",
    "    lz = galsim.interpolant.Lanczos(i, conserve_dc=True, gsparams=galsim.GSParams(kvalue_accuracy=tol))\n",
    "    print(\"    %d: %r,\" % (i, lz.negative_flux))\n",
    "print(\"}\")\n",
    "\n",
    "print(\"_negflux_no_conserve_dc = {\")\n",
    "for i in orders:\n",
    "    lz = galsim.interpolant.Lanczos(i, conserve_dc=False, gsparams=galsim.GSParams(kvalue_accuracy=tol))\n",
    "    print(\"    %d: %r,\" % (i, lz.negative_flux))\n",
    "print(\"}\")"
   ]
  },
  {
   "cell_type": "code",
   "execution_count": null,
   "id": "2bae35ce-c659-4360-9778-2a3770ec8870",
   "metadata": {
    "scrolled": true
   },
   "outputs": [],
   "source": [
    "with np.printoptions(floatmode=\"unique\"):\n",
    "\n",
    "    print(\"_unit_integrals_no_conserve_dc = {\")\n",
    "    for i in orders:\n",
    "        lz = galsim.interpolant.Lanczos(i, conserve_dc=False, gsparams=galsim.GSParams(kvalue_accuracy=tol))\n",
    "        print(\"    %d: jnp.%s, dtype=float),\" % (i, repr(lz.unit_integrals())[:-1]))\n",
    "    print(\"}\")\n",
    "\n",
    "    print(\"_unit_integrals_conserve_dc = {\")\n",
    "    for i in orders:\n",
    "        lz = galsim.interpolant.Lanczos(i, conserve_dc=True, gsparams=galsim.GSParams(kvalue_accuracy=tol))\n",
    "        print(\"    %d: jnp.%s, dtype=float),\" % (i, repr(lz.unit_integrals())[:-1]))\n",
    "    print(\"}\")"
   ]
  },
  {
   "cell_type": "code",
   "execution_count": null,
   "id": "a6059101-1f9c-43fc-ba2c-d45e9d9b5c3f",
   "metadata": {},
   "outputs": [],
   "source": []
  },
  {
   "cell_type": "code",
   "execution_count": null,
   "id": "8af5c04d-9643-443c-9053-e066a1a328e6",
   "metadata": {},
   "outputs": [],
   "source": []
  }
 ],
 "metadata": {
  "kernelspec": {
   "display_name": "Python [conda env:work]",
   "language": "python",
   "name": "conda-env-work-py"
  },
  "language_info": {
   "codemirror_mode": {
    "name": "ipython",
    "version": 3
   },
   "file_extension": ".py",
   "mimetype": "text/x-python",
   "name": "python",
   "nbconvert_exporter": "python",
   "pygments_lexer": "ipython3",
   "version": "3.10.12"
  }
 },
 "nbformat": 4,
 "nbformat_minor": 5
}
